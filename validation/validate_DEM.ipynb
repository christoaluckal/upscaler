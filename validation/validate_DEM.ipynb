{
 "cells": [
  {
   "cell_type": "code",
   "execution_count": 1,
   "metadata": {},
   "outputs": [],
   "source": [
    "og_dem = '/home/caluckal/Desktop/Github/upscaler/validation/original_DEM.tif'\n",
    "altered_dem = '/home/caluckal/Desktop/Github/upscaler/validation/downscaled_upscaled_DEM.tif'\n",
    "\n",
    "from osgeo import gdal\n",
    "import numpy as np\n",
    "import cv2\n",
    "from sklearn.preprocessing import normalize\n",
    "\n",
    "def getdata(path):\n",
    "    og_height,og_width= cv2.imread(path,-1).shape\n",
    "    dem_file = gdal.Open(str(path))\n",
    "    dem_band = dem_file.GetRasterBand(1)\n",
    "    dem_data = dem_band.ReadAsArray(0,0,og_width,og_height)\n",
    "    return dem_data,og_height,og_width\n",
    "    # cv2.imwrite('/home/caluckal/Desktop/Github/elevation-infer/validation/test.png',dem_data)\n",
    "\n",
    "def getfirstvalid(array,height,width):\n",
    "    try:\n",
    "        for x in range(height):\n",
    "            for y in range(width):\n",
    "                if array[x][y] == -32767.0:\n",
    "                    print(array[x][y])\n",
    "                    raise Exception\n",
    "    except Exception:\n",
    "        return (x,y)\n",
    "\n",
    "box_list_sel = []\n",
    "\n",
    "def draw_rectangle_with_drag(event, x, y, flags, param):\n",
    "    if event == cv2.EVENT_LBUTTONDOWN:\n",
    "        box_list_sel.append((4*x,4*y))\n",
    "        print(\"Clicked on {},{} which is {},{} in original sub-image\".format(x,y,4*x,4*y))\n",
    "\n",
    "def selector(image_og):\n",
    "    '''\n",
    "    Function to display the image with contours and select and normalize the clicked coordinates\n",
    "\n",
    "    Params\n",
    "    image_og: Image to be displayed\n",
    "\n",
    "    Returns\n",
    "    box_list_sel: 2D array with the coordinates (X,Y) of the clicked location\n",
    "    '''\n",
    "    # Pixel location variables\n",
    "    img_og_shape = image_og.shape\n",
    "    # We downscale the original image to be able to show it in a window. This definitely leads to a ~5% error in pixel calculations\n",
    "    img_disp = cv2.resize(image_og,(img_og_shape[1]//4,img_og_shape[0]//4))\n",
    "    # Pixel location storage    \n",
    "    cv2.namedWindow(winname = \"Downscaled Sub-Image\")\n",
    "    cv2.setMouseCallback(\"Downscaled Sub-Image\", \n",
    "                        draw_rectangle_with_drag)\n",
    "    img_disp = cv2.cvtColor(img_disp,cv2.COLOR_BGR2RGB)\n",
    "    #cv2.imwrite('contour_op_selection.jpg',img_disp)\n",
    "    while True:\n",
    "        cv2.imshow(\"Downscaled Sub-Image\", img_disp)\n",
    "        \n",
    "        if cv2.waitKey(10) == 27:\n",
    "            break\n",
    "\n",
    "    cv2.destroyAllWindows()\n",
    "\n",
    "    return box_list_sel\n",
    "\n",
    "def tri_sel(image1,image2):\n",
    "    count = 0\n",
    "    while count<3:\n",
    "        selector(image1)\n",
    "        selector(image2)\n",
    "        count+=1\n",
    "\n",
    "    x_avg = (box_list_sel[1][0]-box_list_sel[0][0])+(box_list_sel[3][0]-box_list_sel[2][0])+(box_list_sel[5][0]-box_list_sel[4][0])\n",
    "    x_avg = x_avg//3\n",
    "\n",
    "    y_avg = (box_list_sel[1][1]-box_list_sel[0][1])+(box_list_sel[3][1]-box_list_sel[2][1])+(box_list_sel[5][1]-box_list_sel[4][1])\n",
    "    y_avg = y_avg//3\n",
    "\n",
    "    return (x_avg,y_avg)\n",
    "\n",
    "\n",
    "def min_no_outlier(data,height,width):\n",
    "    min = 0\n",
    "    for x in range(height):\n",
    "        for y in range(width):\n",
    "            test = data[x][y]\n",
    "            if test < min and test!=-32767:\n",
    "                min = test\n",
    "    return min\n",
    "\n",
    "def offset_data(og,dummy,y_off,x_off):\n",
    "    for y in range(og_height):\n",
    "        for x in range(og_width):\n",
    "            dummy[y+y_off][x+x_off] = og[y][x]\n",
    "    \n",
    "    return dummy\n",
    "\n",
    "def normalize(x,min,max,a,b):\n",
    "    norm = int(a+(b-a)*((x-min)/(max-min)))\n",
    "    return norm\n"
   ]
  },
  {
   "cell_type": "code",
   "execution_count": 2,
   "metadata": {},
   "outputs": [],
   "source": [
    "og_data,og_height,og_width = getdata(og_dem)\n",
    "alt_data,alt_height,alt_width = getdata(altered_dem)"
   ]
  },
  {
   "cell_type": "code",
   "execution_count": 3,
   "metadata": {},
   "outputs": [],
   "source": [
    "og_img = cv2.imread('validation/og.png')\n",
    "alt_img = cv2.imread('validation/alt.png')\n",
    "\n",
    "\n",
    "# x_dash,y_dash = tri_sel(og_img,alt_img)\n",
    "x_dash,y_dash = 1,26\n",
    "offset = np.zeros((alt_height,alt_width))"
   ]
  },
  {
   "cell_type": "code",
   "execution_count": 4,
   "metadata": {},
   "outputs": [],
   "source": [
    "offseted = offset_data(og_data,offset,y_dash,x_dash)\n",
    "min_og = min_no_outlier(og_data,og_height,og_width)\n",
    "max_og = np.max(og_data)\n",
    "\n"
   ]
  },
  {
   "cell_type": "code",
   "execution_count": 5,
   "metadata": {},
   "outputs": [],
   "source": [
    "def get_difference(array1,array2,height,width):\n",
    "    image = np.zeros((height,width,3),dtype=np.int32)\n",
    "    difference = np.zeros((height,width,1),dtype=np.float64)\n",
    "    for x in range(height):\n",
    "        for y in range(width):\n",
    "            if(array1[x][y]== -32767 and array2[x][y] == -32767):\n",
    "                color = np.array([0,0,0])\n",
    "                difference[x][y] = 0\n",
    "            else:\n",
    "                dif =  abs(array1[x][y]-array2[x][y])\n",
    "                if dif > 1:\n",
    "                    color = np.array([0,0,255])\n",
    "                elif dif > 0.5:\n",
    "                    color = np.array([0,138,255])\n",
    "                elif dif > 0.2:\n",
    "                    color = np.array([0,255,255])\n",
    "                elif dif > 0.1:\n",
    "                    color = np.array([0,255,138])\n",
    "                else:\n",
    "                    color = np.array([0,255,0])\n",
    "            image[x][y]=color\n",
    "            difference[x][y] = dif\n",
    "    return image,difference"
   ]
  },
  {
   "cell_type": "code",
   "execution_count": 6,
   "metadata": {},
   "outputs": [],
   "source": [
    "image_diff,diff_array = get_difference(alt_data,offseted,alt_height,alt_width)"
   ]
  },
  {
   "cell_type": "code",
   "execution_count": 7,
   "metadata": {},
   "outputs": [],
   "source": [
    "np.save('difference_array', diff_array)"
   ]
  },
  {
   "cell_type": "code",
   "execution_count": 8,
   "metadata": {},
   "outputs": [
    {
     "data": {
      "text/plain": [
       "True"
      ]
     },
     "execution_count": 8,
     "metadata": {},
     "output_type": "execute_result"
    }
   ],
   "source": [
    "cv2.imwrite('batch_save2.png',image_diff)"
   ]
  }
 ],
 "metadata": {
  "interpreter": {
   "hash": "916dbcbb3f70747c44a77c7bcd40155683ae19c65e1c03b4aa3499c5328201f1"
  },
  "kernelspec": {
   "display_name": "Python 3.8.10 64-bit",
   "name": "python3"
  },
  "language_info": {
   "codemirror_mode": {
    "name": "ipython",
    "version": 3
   },
   "file_extension": ".py",
   "mimetype": "text/x-python",
   "name": "python",
   "nbconvert_exporter": "python",
   "pygments_lexer": "ipython3",
   "version": "3.8.10"
  },
  "orig_nbformat": 4
 },
 "nbformat": 4,
 "nbformat_minor": 2
}
