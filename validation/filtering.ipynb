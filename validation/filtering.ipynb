{
 "cells": [
  {
   "cell_type": "code",
   "execution_count": 1,
   "metadata": {},
   "outputs": [],
   "source": [
    "import cv2\n",
    "import numpy as np\n",
    "from PIL import Image"
   ]
  },
  {
   "cell_type": "code",
   "execution_count": 2,
   "metadata": {},
   "outputs": [],
   "source": [
    "original_ortho = '/home/caluckal/Desktop/Github/upscaler/validation/original_Ortho.png'\n",
    "altered_ortho = '/home/caluckal/Desktop/Github/upscaler/validation/downscaled_upscaled_ISR_Ortho.png'"
   ]
  },
  {
   "cell_type": "code",
   "execution_count": 4,
   "metadata": {},
   "outputs": [],
   "source": [
    "# og_img = cv2.imread(original_ortho)"
   ]
  },
  {
   "cell_type": "code",
   "execution_count": 3,
   "metadata": {},
   "outputs": [],
   "source": [
    "alt_img =cv2.imread(altered_ortho)"
   ]
  },
  {
   "cell_type": "code",
   "execution_count": 4,
   "metadata": {},
   "outputs": [],
   "source": [
    "#Corner Detection\n",
    "def corner(image,name):\n",
    "    gray = cv2.cvtColor(image,cv2.COLOR_BGR2GRAY)\n",
    "    gray = np.float32(gray)\n",
    "    dst = cv2.cornerHarris(gray,2,3,0.04)\n",
    "\n",
    "    #result is dilated for marking the corners, not important\n",
    "    dst = cv2.dilate(dst,None)\n",
    "\n",
    "    # Threshold for an optimal value, it may vary depending on the image.\n",
    "    image[dst>0.01*dst.max()]=[0,0,255]\n",
    "\n",
    "    cv2.imwrite('harris_{}.png'.format(name),image)"
   ]
  },
  {
   "cell_type": "code",
   "execution_count": 5,
   "metadata": {},
   "outputs": [],
   "source": [
    "# Edge Detection\n",
    "def edge(img,name):\n",
    "    # Convert to graycsale\n",
    "    img_gray = cv2.cvtColor(img, cv2.COLOR_BGR2GRAY)\n",
    "    # Blur the image for better edge detection\n",
    "    img_blur = cv2.GaussianBlur(img_gray, (3,3), 0) \n",
    "    # Sobel Edge Detection\n",
    "    sobelx = cv2.Sobel(src=img_blur, ddepth=cv2.CV_64F, dx=1, dy=0, ksize=5) # Sobel Edge Detection on the X axis\n",
    "    cv2.imwrite('sobelX_{}.png'.format(name),sobelx)\n",
    "    sobely = cv2.Sobel(src=img_blur, ddepth=cv2.CV_64F, dx=0, dy=1, ksize=5) # Sobel Edge Detection on the Y axis\n",
    "    cv2.imwrite('sobelY_{}.png'.format(name),sobely)\n",
    "    sobelxy = cv2.Sobel(src=img_blur, ddepth=cv2.CV_64F, dx=1, dy=1, ksize=5) # Combined X and Y Sobel Edge Detection\n",
    "    cv2.imwrite('sobelXY_{}.png'.format(name),sobelxy)\n",
    "    edges = cv2.Canny(image=img_blur, threshold1=100, threshold2=200) # Canny Edge Detection\n",
    "    # Display Canny Edge Detection Image\n",
    "    cv2.imwrite('canny_{}.png'.format(name),edges)\n"
   ]
  },
  {
   "cell_type": "code",
   "execution_count": 2,
   "metadata": {},
   "outputs": [],
   "source": [
    "keypoints = 0\n",
    "def sift(image,name):\n",
    "    global keypoints\n",
    "    gray = cv2.cvtColor(image, cv2.COLOR_BGR2GRAY)\n",
    "    gray= cv2.cvtColor(image,cv2.COLOR_BGR2GRAY)\n",
    "    sift = cv2.SIFT_create()\n",
    "    kp = sift.detect(gray,None)\n",
    "    keypoints+=len(kp)\n",
    "    img=cv2.drawKeypoints(gray,kp,image)\n",
    "    cv2.imwrite(name[:-4]+'_new.jpg',img)"
   ]
  },
  {
   "cell_type": "code",
   "execution_count": 9,
   "metadata": {},
   "outputs": [],
   "source": [
    "# corner(og_img,'og')"
   ]
  },
  {
   "cell_type": "code",
   "execution_count": 6,
   "metadata": {},
   "outputs": [],
   "source": [
    "corner(alt_img,'alt')"
   ]
  },
  {
   "cell_type": "code",
   "execution_count": 11,
   "metadata": {},
   "outputs": [],
   "source": [
    "# edge(og_img,'og')\n"
   ]
  },
  {
   "cell_type": "code",
   "execution_count": 7,
   "metadata": {},
   "outputs": [],
   "source": [
    "edge(alt_img,'alt')"
   ]
  },
  {
   "cell_type": "code",
   "execution_count": 9,
   "metadata": {},
   "outputs": [
    {
     "name": "stdout",
     "output_type": "stream",
     "text": [
      "4319033\n"
     ]
    }
   ],
   "source": [
    "import os\n",
    "folder = '/home/caluckal/Desktop/Github/upscaler/validation/IP_testing/ISR/sift_results/og_parts'\n",
    "img_list = [x for x in os.listdir(folder) if x.endswith('.jpg')]\n",
    "\n",
    "for x in img_list:\n",
    "    image = cv2.imread(folder+'/'+x)\n",
    "    sift(image,'/home/caluckal/Desktop/Github/upscaler/validation/IP_testing/ISR/sift_results/og_sift/'+x)\n",
    "\n",
    "print(keypoints)\n",
    "keypoints = 0"
   ]
  },
  {
   "cell_type": "code",
   "execution_count": null,
   "metadata": {},
   "outputs": [],
   "source": [
    "import os\n",
    "folder = '/home/caluckal/Desktop/Github/upscaler/validation/IP_testing/ISR/sift_results/alt_parts'\n",
    "img_list = [x for x in os.listdir(folder) if x.endswith('.jpg')]\n",
    "\n",
    "for x in img_list:\n",
    "    image = cv2.imread(folder+'/'+x)\n",
    "    sift(image,'/home/caluckal/Desktop/Github/upscaler/validation/IP_testing/ISR/sift_results/alt_sift/'+x)\n",
    "\n",
    "print(keypoints)\n",
    "keypoints = 0"
   ]
  },
  {
   "cell_type": "code",
   "execution_count": 15,
   "metadata": {},
   "outputs": [],
   "source": [
    "def sharpen(image):\n",
    "    kernel = np.array([[0, -1, 0],\n",
    "                   [-1, 5,-1],\n",
    "                   [0, -1, 0]])\n",
    "    image_sharp = cv2.filter2D(src=image, ddepth=-1, kernel=kernel)\n",
    "    return image_sharp\n",
    "\n",
    "import os\n",
    "folder = '/home/caluckal/Desktop/Github/upscaler/validation/IP_testing/ISR/sift_results/alt_parts'\n",
    "\n",
    "img_list = [x for x in os.listdir(folder) if x.endswith('.jpg')]\n",
    "\n",
    "for x in img_list:\n",
    "    image = cv2.imread(folder+'/'+x)\n",
    "    sift(image,'/home/caluckal/Desktop/Github/upscaler/validation/IP_testing/ISR/sift_results/alt_sift/'+x)\n",
    "\n",
    "\n",
    "print(keypoints)\n",
    "keypoints = 0"
   ]
  },
  {
   "cell_type": "code",
   "execution_count": 16,
   "metadata": {},
   "outputs": [],
   "source": [
    "def sharpen(image):\n",
    "    kernel = np.array([[0, -2, 0],\n",
    "                   [-2, 9,-2],\n",
    "                   [0, -2, 0]])\n",
    "    image_sharp = cv2.filter2D(src=image, ddepth=-1, kernel=kernel)\n",
    "    return image_sharp\n",
    "\n",
    "import os\n",
    "folder = 'sift/alt_parts'\n",
    "img_list = [x for x in os.listdir(folder) if x.endswith('.jpg')]\n",
    "\n",
    "for x in img_list:\n",
    "    image = cv2.imread(folder+'/'+x)\n",
    "    sift(sharpen(image),'sift/alt_sift/'+x)\n",
    "\n",
    "print(keypoints)\n",
    "keypoints = 0"
   ]
  },
  {
   "cell_type": "code",
   "execution_count": null,
   "metadata": {},
   "outputs": [],
   "source": []
  },
  {
   "cell_type": "code",
   "execution_count": 3,
   "metadata": {},
   "outputs": [],
   "source": [
    "def match(img1,img2,name):\n",
    "#load images\n",
    "    # Initiate SIFT detector\n",
    "    img1 = cv2.imread(img1)\n",
    "    img2 = cv2.imread(img2)\n",
    "    sift = cv2.SIFT()\n",
    "\n",
    "    # find the keypoints and descriptors with SIFT\n",
    "    kp1, des1 = sift.detectAndCompute(img1,None)\n",
    "    kp2, des2 = sift.detectAndCompute(img2,None)\n",
    "\n",
    "    # BFMatcher with default params\n",
    "    bf = cv2.BFMatcher()\n",
    "    matches = bf.knnMatch(des1,des2, k=2)\n",
    "    # Apply ratio test\n",
    "    good = []\n",
    "    for m,n in matches:\n",
    "        if m.distance < 0.75*n.distance:\n",
    "            good.append([m])\n",
    "\n",
    "    img3 = cv2.drawMatchesKnn(img1,kp1,img2,kp2,good,flags=2)\n",
    "    cv2.imwrite(name+'.jpg',img3)\n",
    "    return good"
   ]
  },
  {
   "cell_type": "code",
   "execution_count": 5,
   "metadata": {},
   "outputs": [],
   "source": [
    "import os\n",
    "import cv2\n",
    "\n",
    "good_list = []\n",
    "\n",
    "og_folder = '/home/caluckal/Desktop/Github/upscaler/validation/IP_testing/ISR/sift_results/og_parts'\n",
    "alt_folder = '/home/caluckal/Desktop/Github/upscaler/validation/IP_testing/ISR/sift_results/alt_parts'\n",
    "\n",
    "\n",
    "og_list = sorted([x for x in os.listdir(og_folder) if x.endswith('.jpg')])[0:1]\n",
    "alt_list = sorted([x for x in os.listdir(alt_folder) if x.endswith('.jpg')])\n",
    "\n",
    "match_list = []\n",
    "name_list = []\n",
    "for x in og_list:\n",
    "    names = x.split('_')\n",
    "    name = names[2]+'_'+names[3]\n",
    "    if 'alt_parts_'+name+'_.jpg' in alt_list:\n",
    "        match_list.append([x,'alt_parts_'+name+'_.jpg'])\n",
    "\n",
    "match_file = open('/home/caluckal/Desktop/Github/upscaler/validation/IP_testing/ISR/sift_results/match_list.txt','w+')\n",
    "\n",
    "for x in match_list:\n",
    "    names = x[0].split('_')\n",
    "    name = names[2]+'_'+names[3]\n",
    "    good_list.append(match(og_folder+'/'+x[0],alt_folder+'/'+x[1],'/home/caluckal/Desktop/Github/upscaler/validation/IP_testing/ISR/sift_results/match/'+name))\n",
    "    name_list.append(name)\n",
    "\n",
    "for x,y in zip(good_list,name_list):\n",
    "    print(y,':',len(x))\n",
    "    match_file.write((y,':',len(x)+'\\n'))\n",
    "\n"
   ]
  },
  {
   "cell_type": "code",
   "execution_count": 1,
   "metadata": {},
   "outputs": [
    {
     "name": "stdout",
     "output_type": "stream",
     "text": [
      "SRGAN txt: 137304\n",
      "ISR txt: 1518960\n",
      "ISR txt: 1028102\n"
     ]
    }
   ],
   "source": [
    "srgan_res = open('/home/caluckal/Desktop/Github/upscaler/validation/IP_testing/SRGAN/sift_results/match_file.txt')\n",
    "isr_res = open('/home/caluckal/Desktop/Github/upscaler/validation/IP_testing/ISR/sift_results/match_list.txt')\n",
    "pil_res = open('/home/caluckal/Desktop/Github/upscaler/validation/IP_testing/PIL/sift_results/match/match_list.txt')\n",
    "\n",
    "srgan_sum = 0\n",
    "isr_sum = 0\n",
    "pil_sum = 0\n",
    "for x in srgan_res.readlines():\n",
    "    srgan_sum+= int(x.split(':')[-1])\n",
    "\n",
    "print(\"SRGAN txt:\",srgan_sum)\n",
    "\n",
    "for x in isr_res.readlines():\n",
    "    isr_sum+= int(x.split(':')[-1])\n",
    "\n",
    "print(\"ISR txt:\",isr_sum)\n",
    "\n",
    "for x in pil_res.readlines():\n",
    "    pil_sum+= int(x.split(':')[-1])\n",
    "\n",
    "print(\"ISR txt:\",pil_sum)"
   ]
  }
 ],
 "metadata": {
  "interpreter": {
   "hash": "916dbcbb3f70747c44a77c7bcd40155683ae19c65e1c03b4aa3499c5328201f1"
  },
  "kernelspec": {
   "display_name": "Python 3.8.10 64-bit",
   "name": "python3"
  },
  "language_info": {
   "codemirror_mode": {
    "name": "ipython",
    "version": 3
   },
   "file_extension": ".py",
   "mimetype": "text/x-python",
   "name": "python",
   "nbconvert_exporter": "python",
   "pygments_lexer": "ipython3",
   "version": "3.8.10"
  },
  "orig_nbformat": 4
 },
 "nbformat": 4,
 "nbformat_minor": 2
}
